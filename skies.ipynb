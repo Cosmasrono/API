{
  "nbformat": 4,
  "nbformat_minor": 0,
  "metadata": {
    "colab": {
      "private_outputs": true,
      "provenance": [],
      "authorship_tag": "ABX9TyPSsowcK2vqEhBHhCvf8Bbd",
      "include_colab_link": true
    },
    "kernelspec": {
      "name": "python3",
      "display_name": "Python 3"
    },
    "language_info": {
      "name": "python"
    }
  },
  "cells": [
    {
      "cell_type": "markdown",
      "metadata": {
        "id": "view-in-github",
        "colab_type": "text"
      },
      "source": [
        "<a href=\"https://colab.research.google.com/github/Cosmasrono/API/blob/main/skies.ipynb\" target=\"_parent\"><img src=\"https://colab.research.google.com/assets/colab-badge.svg\" alt=\"Open In Colab\"/></a>"
      ]
    },
    {
      "cell_type": "markdown",
      "source": [],
      "metadata": {
        "id": "A3vF7dU2rfe1"
      }
    },
    {
      "cell_type": "code",
      "source": [
        "import pandas as pd\n",
        "import numpy as np\n",
        "import matplotlib.pyplot as plt\n",
        "from sklearn.preprocessing import MinMaxScaler, OneHotEncoder\n",
        "from sklearn.model_selection import train_test_split\n",
        "from tensorflow.keras.models import Sequential\n",
        "from tensorflow.keras.layers import Dense, Conv1D, Flatten\n",
        "from tensorflow.keras.metrics import MeanSquaredError\n",
        "\n",
        "# Load the datasets\n",
        "rainfall_data = pd.read_csv('/content/rainfall.csv')\n",
        "temperature_data = pd.read_csv('/content/temp.csv')\n",
        "\n",
        "# Rename columns to ensure they can be merged correctly\n",
        "rainfall_data.columns = ['Year', 'Month', 'Average_Rainfall_(MM)']\n",
        "temperature_data.columns = ['Year', 'Month', 'Average_Temperature_(Celsius)']\n",
        "\n",
        "# Handle missing values by dropping rows with missing values\n",
        "rainfall_data.dropna(inplace=True)\n",
        "temperature_data.dropna(inplace=True)\n",
        "\n",
        "# Remove duplicates\n",
        "rainfall_data.drop_duplicates(inplace=True)\n",
        "temperature_data.drop_duplicates(inplace=True)\n",
        "\n",
        "# Merge datasets on 'Year' and 'Month'\n",
        "data_combined = pd.merge(rainfall_data, temperature_data, on=['Year', 'Month'])\n",
        "\n",
        "# Separate features (X) and target variable (y)\n",
        "X = data_combined[['Year', 'Month', 'Average_Rainfall_(MM)']]\n",
        "y = data_combined['Average_Temperature_(Celsius)']\n",
        "\n",
        "# Encode the 'Month' feature using one-hot encoding\n",
        "encoder = OneHotEncoder(sparse=False, handle_unknown='ignore')\n",
        "month_encoded = encoder.fit_transform(X[['Month']])\n",
        "\n",
        "# Combine encoded month with other features (assuming 'Year' and 'Average_Rainfall_(MM)' are numerical)\n",
        "month_columns = encoder.get_feature_names_out(['Month'])\n",
        "X_combined = pd.concat([X[['Year', 'Average_Rainfall_(MM)']], pd.DataFrame(month_encoded, columns=month_columns)], axis=1)\n",
        "\n",
        "# Normalize the features\n",
        "scaler = MinMaxScaler()\n",
        "X_scaled = scaler.fit_transform(X_combined)\n",
        "\n",
        "# Reshape the input data to fit the CNN input shape requirements\n",
        "# CNN expects 3D input: (samples, timesteps, features)\n",
        "X_reshaped = X_scaled.reshape(X_scaled.shape[0], X_scaled.shape[1], 1)\n",
        "\n",
        "# Split data into training and testing sets\n",
        "X_train, X_test, y_train, y_test = train_test_split(X_reshaped, y, test_size=0.2, random_state=42)\n",
        "\n",
        "# Build the CNN model\n",
        "model = Sequential()\n",
        "model.add(Conv1D(filters=64, kernel_size=2, activation='relu', input_shape=(X_train.shape[1], 1)))\n",
        "model.add(Conv1D(filters=64, kernel_size=2, activation='relu'))\n",
        "model.add(Flatten())\n",
        "model.add(Dense(50, activation='relu'))\n",
        "model.add(Dense(1))\n",
        "\n",
        "# Compile the model\n",
        "model.compile(optimizer='adam', loss='mean_squared_error', metrics=[MeanSquaredError()])\n",
        "\n",
        "# Train the model\n",
        "history = model.fit(X_train, y_train, epochs=50, verbose=1, validation_split=0.2)\n",
        "\n",
        "# Evaluate the model\n",
        "loss, mse = model.evaluate(X_test, y_test, verbose=0)\n",
        "print(f'CNN Model Evaluation - Mean Squared Error: {mse}')\n",
        "\n",
        "# Predict on the test data\n",
        "y_pred = model.predict(X_test)\n",
        "\n",
        "# Visualize the results\n",
        "plt.figure(figsize=(14, 6))\n",
        "\n",
        "# Plot actual vs predicted temperatures\n",
        "plt.subplot(1, 2, 1)\n",
        "plt.plot(y_test.values, label='Actual')\n",
        "plt.plot(y_pred, label='Predicted')\n",
        "plt.title('Actual vs Predicted Temperatures')\n",
        "plt.xlabel('Samples')\n",
        "plt.ylabel('Average Temperature (Celsius)')\n",
        "plt.legend()\n",
        "\n",
        "# Plot training & validation loss over epochs\n",
        "plt.subplot(1, 2, 2)\n",
        "plt.plot(history.history['loss'], label='Training Loss')\n",
        "plt.plot(history.history['val_loss'], label='Validation Loss')\n",
        "plt.title('Training and Validation Loss')\n",
        "plt.xlabel('Epochs')\n",
        "plt.ylabel('Loss (Mean Squared Error)')\n",
        "plt.legend()\n",
        "\n",
        "plt.tight_layout()\n",
        "plt.show()\n"
      ],
      "metadata": {
        "collapsed": true,
        "id": "5r2MIMCR2sUl"
      },
      "execution_count": null,
      "outputs": []
    }
  ]
}