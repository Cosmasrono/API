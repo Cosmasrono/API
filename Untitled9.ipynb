{
  "nbformat": 4,
  "nbformat_minor": 0,
  "metadata": {
    "colab": {
      "private_outputs": true,
      "provenance": [],
      "cell_execution_strategy": "setup",
      "mount_file_id": "12SKP_SIL690jqMQemP4EkAKl8ksRUYMN",
      "authorship_tag": "ABX9TyO7ZrfhRwyCcZQNaL0jzFo7",
      "include_colab_link": true
    },
    "kernelspec": {
      "name": "python3",
      "display_name": "Python 3"
    },
    "language_info": {
      "name": "python"
    }
  },
  "cells": [
    {
      "cell_type": "markdown",
      "metadata": {
        "id": "view-in-github",
        "colab_type": "text"
      },
      "source": [
        "<a href=\"https://colab.research.google.com/github/Cosmasrono/API/blob/main/Untitled9.ipynb\" target=\"_parent\"><img src=\"https://colab.research.google.com/assets/colab-badge.svg\" alt=\"Open In Colab\"/></a>"
      ]
    },
    {
      "cell_type": "code",
      "source": [
        "import pandas as pd\n",
        "import numpy as np\n",
        "import matplotlib.pyplot as plt\n",
        "from sklearn.neighbors import KNeighborsRegressor\n",
        "from sklearn.model_selection import train_test_split\n",
        "from sklearn.preprocessing import StandardScaler\n",
        "\n",
        "# Load the dataset\n",
        "data = pd.read_csv('/content/global air pollution dataset.csv')\n",
        "\n",
        "# Handle missing values (if any)\n",
        "data = data.dropna()\n",
        "\n",
        "# Define features and target variable\n",
        "X = data[['CO AQI Value', 'Ozone AQI Value', 'NO2 AQI Value', 'PM2.5 AQI Value']]\n",
        "y = data['AQI Value']\n",
        "\n",
        "# Split the data into training and testing sets\n",
        "X_train, X_test, y_train, y_test = train_test_split(X, y, test_size=0.2, random_state=42)\n",
        "\n",
        "# Standardize the features\n",
        "scaler = StandardScaler()\n",
        "X_train_scaled = scaler.fit_transform(X_train)\n",
        "X_test_scaled = scaler.transform(X_test)\n",
        "\n",
        "# Initialize and train the KNN model\n",
        "knn = KNeighborsRegressor(n_neighbors=5)\n",
        "knn.fit(X_train_scaled, y_train)\n",
        "\n",
        "# Predict AQI values for all cities\n",
        "data['Predicted AQI'] = knn.predict(scaler.transform(X))\n",
        "\n",
        "# Classify cities based on AQI\n",
        "def classify_aqi(aqi):\n",
        "    if aqi > 150:\n",
        "        return 'Danger'\n",
        "    elif 51 <= aqi <= 150:\n",
        "        return 'Moderate'\n",
        "    else:\n",
        "        return 'Good'\n",
        "\n",
        "# Apply the classification to the dataset\n",
        "data['AQI Category'] = data['Predicted AQI'].apply(classify_aqi)\n",
        "\n",
        "# Select the top 10 cities for each category\n",
        "top_10_danger = data[data['AQI Category'] == 'Danger'].nlargest(10, 'Predicted AQI')\n",
        "top_10_moderate = data[data['AQI Category'] == 'Moderate'].nlargest(10, 'Predicted AQI')\n",
        "top_10_good = data[data['AQI Category'] == 'Good'].nsmallest(10, 'Predicted AQI')\n",
        "\n",
        "# Plotting function\n",
        "def plot_cities(cities, category, color):\n",
        "    plt.figure(figsize=(12, 8))\n",
        "    plt.barh(cities['City'], cities['Predicted AQI'], color=color)\n",
        "    plt.xlabel('Predicted AQI Value')\n",
        "    plt.ylabel('City')\n",
        "    plt.title(f'Top 10 Cities with {category} Air Quality (Predicted)')\n",
        "    plt.gca().invert_yaxis()  # Invert y-axis to show the highest AQI value at the top\n",
        "    plt.show()\n",
        "\n",
        "# Plot the cities for each category\n",
        "plot_cities(top_10_danger, 'Danger', 'red')\n",
        "plot_cities(top_10_moderate, 'Moderate', 'orange')\n",
        "plot_cities(top_10_good, 'Good', 'green')\n"
      ],
      "metadata": {
        "id": "qCpEUpqNb7In"
      },
      "execution_count": null,
      "outputs": []
    },
    {
      "cell_type": "code",
      "source": [
        "knn = KNeighborsRegressor(n_neighbors=5)\n",
        "knn.fit(X_train_scaled, y_train)\n",
        "\n",
        "# Predict AQI values for the test set\n",
        "y_pred = knn.predict(X_test_scaled)\n",
        "\n",
        "# Calculate metrics\n",
        "mse = mean_squared_error(y_test, y_pred)\n",
        "r2 = r2_score(y_test, y_pred)\n",
        "\n",
        "print(f'Mean Squared Error (MSE): {mse:.2f}')\n",
        "print(f'R-squared (R2) Score: {r2:.2f}')\n",
        "\n",
        "# Plot predicted vs actual values\n",
        "plt.figure(figsize=(10, 6))\n",
        "plt.scatter(y_test, y_pred, color='blue', alpha=0.7)\n",
        "plt.plot([min(y_test), max(y_test)], [min(y_test), max(y_test)], color='red')  # Diagonal line representing perfect predictions\n",
        "plt.title('Predicted vs Actual AQI Values (KNN)')\n",
        "plt.xlabel('Actual AQI Values')\n",
        "plt.ylabel('Predicted AQI Values')\n",
        "plt.grid(True)\n",
        "plt.tight_layout()\n",
        "plt.show()"
      ],
      "metadata": {
        "id": "N8jsjKttjacI"
      },
      "execution_count": null,
      "outputs": []
    },
    {
      "cell_type": "code",
      "source": [
        "danger_threshold = 150  # Example threshold for \"most dangerous\"\n",
        "moderate_threshold = 100  # Example threshold for \"moderate\"\n",
        "# Assuming values below moderate_threshold are \"good\"\n",
        "\n",
        "# Categorize predictions\n",
        "y_pred_categories = []\n",
        "for pred in y_pred:\n",
        "    if pred >= danger_threshold:\n",
        "        y_pred_categories.append(\"Most Dangerous\")\n",
        "    elif pred >= moderate_threshold:\n",
        "        y_pred_categories.append(\"Moderate\")\n",
        "    else:\n",
        "        y_pred_categories.append(\"Good\")\n",
        "\n",
        "# Count the occurrences of each category\n",
        "category_counts = pd.Series(y_pred_categories).value_counts()\n",
        "\n",
        "# Plotting the pie chart\n",
        "plt.figure(figsize=(8, 8))\n",
        "plt.pie(category_counts, labels=category_counts.index, autopct='%1.1f%%', startangle=140)\n",
        "plt.title('Distribution of AQI Categories (Predicted)')\n",
        "plt.axis('equal')  # Equal aspect ratio ensures that pie is drawn as a circle.\n",
        "plt.show()"
      ],
      "metadata": {
        "id": "q6GN8N2Bn6FO"
      },
      "execution_count": null,
      "outputs": []
    }
  ]
}